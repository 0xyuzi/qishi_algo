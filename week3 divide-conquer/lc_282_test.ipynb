{
 "metadata": {
  "language_info": {
   "codemirror_mode": {
    "name": "ipython",
    "version": 3
   },
   "file_extension": ".py",
   "mimetype": "text/x-python",
   "name": "python",
   "nbconvert_exporter": "python",
   "pygments_lexer": "ipython3",
   "version": "3.7.1-final"
  },
  "orig_nbformat": 2,
  "kernelspec": {
   "name": "python3",
   "display_name": "Python 3",
   "language": "python"
  }
 },
 "nbformat": 4,
 "nbformat_minor": 2,
 "cells": [
  {
   "cell_type": "code",
   "execution_count": 32,
   "metadata": {},
   "outputs": [
    {
     "output_type": "error",
     "ename": "IndentationError",
     "evalue": "expected an indented block (<ipython-input-32-05a0352ea5b6>, line 10)",
     "traceback": [
      "\u001b[1;36m  File \u001b[1;32m\"<ipython-input-32-05a0352ea5b6>\"\u001b[1;36m, line \u001b[1;32m10\u001b[0m\n\u001b[1;33m    print(f\"{nums, target, pos, expr, prev, curr}\")\u001b[0m\n\u001b[1;37m        ^\u001b[0m\n\u001b[1;31mIndentationError\u001b[0m\u001b[1;31m:\u001b[0m expected an indented block\n"
     ]
    }
   ],
   "source": [
    "nums = \"123\"\n",
    "\n",
    "def dfs(nums, target, pos, expr, prev, curr):\n",
    "    if pos == len(nums):\n",
    "        if curr == target:\n",
    "            print(f\"find the expr {expr}!\")\n",
    "\n",
    "    for l in range(1, len(nums)-pos+1): #[1,2,3,4] -> pos = 1,l = 2,3,4 l_end = 4-1 = 3　\n",
    "        \n",
    "            \n",
    "        print(f\"{nums, target, pos, expr, prev, curr}\")\n",
    "        t = nums[pos:pos+l]\n",
    "        n = int(t)\n",
    "        if pos == 0:\n",
    "            # print(f\"{nums, l, t, n, n}\")\n",
    "            dfs(nums, target, l, t, n, n)\n",
    "            continue\n",
    "        dfs(nums, target, pos+l,  expr+\"+\"+t, n, curr+n)\n",
    "    "
   ]
  },
  {
   "cell_type": "code",
   "execution_count": 33,
   "metadata": {},
   "outputs": [
    {
     "output_type": "stream",
     "name": "stdout",
     "text": [
      "('123', 6, 0, '', 0, 0)\n('123', 6, 1, '1', 1, 1)\n('123', 6, 2, '1+2', 2, 3)\n('123', 6, 1, '1', 1, 1)\n('123', 6, 0, '', 0, 0)\n('123', 6, 2, '12', 12, 12)\n('123', 6, 0, '', 0, 0)\n"
     ]
    }
   ],
   "source": [
    "dfs(nums, 6, 0,\"\", 0,0)"
   ]
  },
  {
   "cell_type": "code",
   "execution_count": 23,
   "metadata": {},
   "outputs": [],
   "source": [
    "def dfs2(num, pos, exp, prev, curr):\n",
    "    for l in range(1, len(num)-pos+1):\n",
    "        print(f\"{num, pos, exp, prev, curr}\")\n",
    "        t = num[pos:pos+l]\n",
    "        if t[0] == \"0\" and len(t) > 1: break\n",
    "        n = int(t)\n",
    "        if pos == 0:\n",
    "            dfs(num, l, t, n, n)\n",
    "            continue \n",
    "        dfs(num, pos+l, exp+'+'+t, n, curr+n)"
   ]
  },
  {
   "cell_type": "code",
   "execution_count": 24,
   "metadata": {},
   "outputs": [
    {
     "output_type": "stream",
     "name": "stdout",
     "text": [
      "('123', 0, '', 0, 0)\n('123', 1, '1', 1, 1)\n('123', 2, '1+2', 2, 3)\n('123', 1, '1', 1, 1)\n('123', 0, '', 0, 0)\n('123', 2, '12', 12, 12)\n('123', 0, '', 0, 0)\n"
     ]
    }
   ],
   "source": [
    "dfs2(nums, 0, \"\", 0, 0)"
   ]
  },
  {
   "cell_type": "code",
   "execution_count": null,
   "metadata": {},
   "outputs": [],
   "source": []
  }
 ]
}