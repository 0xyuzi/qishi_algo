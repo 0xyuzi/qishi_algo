{
 "cells": [
  {
   "cell_type": "code",
   "execution_count": 13,
   "metadata": {},
   "outputs": [],
   "source": [
    "# 35 Search Insert Position\n",
    "def searchInsert( nums, target):\n",
    "    if not nums:\n",
    "        return -1 \n",
    "    \n",
    "    start, end = 0, len(nums)-1 \n",
    "    \n",
    "    while start + 1 < end:\n",
    "        mid = (end - start)//2 + start\n",
    "        \n",
    "        # end side >= target, start side < target\n",
    "        if nums[mid] >= target:\n",
    "            end = mid\n",
    "        else:\n",
    "            start = mid \n",
    "        \n",
    "    if nums[start] >= target:\n",
    "        return start\n",
    "\n",
    "    if nums[end] >= target:\n",
    "        return end\n",
    "\n",
    "    return len(nums)\n",
    "\n",
    "    \n"
   ]
  },
  {
   "cell_type": "code",
   "execution_count": 15,
   "metadata": {},
   "outputs": [],
   "source": [
    "nums = [1,3,5,6]\n",
    "assert searchInsert(nums, 5)==2\n",
    "assert searchInsert([1,3,5,6], 0) == 0"
   ]
  },
  {
   "cell_type": "code",
   "execution_count": 4,
   "metadata": {},
   "outputs": [],
   "source": [
    "# 209. Minimum Size Subarray Sum\n",
    "from typing import List\n",
    "\n",
    "class Solution:\n",
    "    def minSubArrayLen(self, target: int, nums: List[int]) -> int:\n",
    "        if not nums or sum(nums) < target:\n",
    "            return 0\n",
    "        \n",
    "        if len(nums) == 1 or max(nums) >=target:\n",
    "            return 1 \n",
    "        \n",
    "        prefix_sum = [0]*(len(nums)+1)\n",
    "        \n",
    "        prefix_sum[0] = 0\n",
    "        \n",
    "        for i in range(1, len(nums)+1):\n",
    "            prefix_sum[i] = prefix_sum[i-1] + nums[i-1]\n",
    "            # print(i, prefix_sum[i] )\n",
    "        \n",
    "        # print(prefix_sum)\n",
    "        \n",
    "        start, end = 2, len(nums)\n",
    "        \n",
    "        while start + 1 < end:\n",
    "            mid = (end - start)// 2 + start\n",
    "            \n",
    "            if self.is_higher(mid, nums,target, prefix_sum):\n",
    "                end = mid\n",
    "            else:\n",
    "                start = mid \n",
    "        \n",
    "        if self.is_higher(start, nums,target, prefix_sum):\n",
    "            return start\n",
    "        else:\n",
    "            return end \n",
    "    \n",
    "    def is_higher(self, size, nums,target, prefix_sum):\n",
    "        \n",
    "        ptr = size\n",
    "        \n",
    "        while ptr <= len(prefix_sum)-1:\n",
    "            \n",
    "            # print(size, ptr, prefix_sum[ptr] - prefix_sum[ptr-size])\n",
    "            if prefix_sum[ptr] - prefix_sum[ptr-size] >= target:\n",
    "                return True\n",
    "            \n",
    "            ptr += 1 \n",
    "            \n",
    "        return False "
   ]
  },
  {
   "cell_type": "code",
   "execution_count": 6,
   "metadata": {},
   "outputs": [
    {
     "name": "stdout",
     "output_type": "stream",
     "text": [
      "2\n"
     ]
    }
   ],
   "source": [
    "target = 7\n",
    "nums = [2,3,1,2,4,3]\n",
    "sol = Solution()\n",
    "print(sol.minSubArrayLen(target, nums))"
   ]
  },
  {
   "cell_type": "code",
   "execution_count": 18,
   "metadata": {},
   "outputs": [],
   "source": [
    "# 35. Search Insert Position\n",
    "from typing import List\n",
    "\n",
    "def findMin(nums: List[int]) -> int:\n",
    "    if not nums:\n",
    "        return None \n",
    "\n",
    "    start, end = 0, len(nums)-1 \n",
    "\n",
    "    while start + 1 < end:\n",
    "        mid = (end - start)//2 + start\n",
    "\n",
    "        if nums[mid] > nums[end]:\n",
    "            start = mid\n",
    "        else:\n",
    "            end = mid \n",
    "\n",
    "    return min(nums[start], nums[end])\n"
   ]
  },
  {
   "cell_type": "code",
   "execution_count": 19,
   "metadata": {},
   "outputs": [
    {
     "data": {
      "text/plain": [
       "1"
      ]
     },
     "execution_count": 19,
     "metadata": {},
     "output_type": "execute_result"
    }
   ],
   "source": [
    "nums = [3,4,5,1,2]\n",
    "findMin(nums)"
   ]
  },
  {
   "cell_type": "code",
   "execution_count": null,
   "metadata": {},
   "outputs": [],
   "source": []
  }
 ],
 "metadata": {
  "kernelspec": {
   "display_name": "Python 3",
   "language": "python",
   "name": "python3"
  },
  "language_info": {
   "codemirror_mode": {
    "name": "ipython",
    "version": 3
   },
   "file_extension": ".py",
   "mimetype": "text/x-python",
   "name": "python",
   "nbconvert_exporter": "python",
   "pygments_lexer": "ipython3",
   "version": "3.7.1"
  }
 },
 "nbformat": 4,
 "nbformat_minor": 2
}
