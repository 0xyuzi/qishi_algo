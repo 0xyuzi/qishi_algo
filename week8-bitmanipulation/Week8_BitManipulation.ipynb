{
 "cells": [
  {
   "cell_type": "markdown",
   "metadata": {
    "toc": true
   },
   "source": [
    "<h1>Table of Contents<span class=\"tocSkip\"></span></h1>\n",
    "<div class=\"toc\"><ul class=\"toc-item\"><li><span><a href=\"#Introduction\" data-toc-modified-id=\"Introduction-1\"><span class=\"toc-item-num\">1&nbsp;&nbsp;</span>Introduction</a></span><ul class=\"toc-item\"><li><span><a href=\"#Definition\" data-toc-modified-id=\"Definition-1.1\"><span class=\"toc-item-num\">1.1&nbsp;&nbsp;</span>Definition</a></span></li><li><span><a href=\"#Bit-representation\" data-toc-modified-id=\"Bit-representation-1.2\"><span class=\"toc-item-num\">1.2&nbsp;&nbsp;</span>Bit representation</a></span><ul class=\"toc-item\"><li><span><a href=\"#Unsigned\" data-toc-modified-id=\"Unsigned-1.2.1\"><span class=\"toc-item-num\">1.2.1&nbsp;&nbsp;</span>Unsigned</a></span></li><li><span><a href=\"#Signed\" data-toc-modified-id=\"Signed-1.2.2\"><span class=\"toc-item-num\">1.2.2&nbsp;&nbsp;</span>Signed</a></span><ul class=\"toc-item\"><li><span><a href=\"#Two's-complement\" data-toc-modified-id=\"Two's-complement-1.2.2.1\"><span class=\"toc-item-num\">1.2.2.1&nbsp;&nbsp;</span>Two's complement</a></span></li><li><span><a href=\"#Complementary-Relationship\" data-toc-modified-id=\"Complementary-Relationship-1.2.2.2\"><span class=\"toc-item-num\">1.2.2.2&nbsp;&nbsp;</span>Complementary Relationship</a></span></li></ul></li></ul></li><li><span><a href=\"#Least-Significant-Bit-(LSB)-and-Most-Significant-Bit-(MSB)\" data-toc-modified-id=\"Least-Significant-Bit-(LSB)-and-Most-Significant-Bit-(MSB)-1.3\"><span class=\"toc-item-num\">1.3&nbsp;&nbsp;</span>Least Significant Bit (LSB) and Most Significant Bit (MSB)</a></span></li></ul></li><li><span><a href=\"#Basic-Operator\" data-toc-modified-id=\"Basic-Operator-2\"><span class=\"toc-item-num\">2&nbsp;&nbsp;</span>Basic Operator</a></span><ul class=\"toc-item\"><li><span><a href=\"#&amp;-(and),-|-(or),-^-(exclusive-or,-xor)\" data-toc-modified-id=\"&amp;-(and),-|-(or),-^-(exclusive-or,-xor)-2.1\"><span class=\"toc-item-num\">2.1&nbsp;&nbsp;</span><code>&amp;</code> (and), <code>|</code> (or), <code>^</code> (exclusive-or, xor)</a></span><ul class=\"toc-item\"><li><span><a href=\"#&amp;-(and)\" data-toc-modified-id=\"&amp;-(and)-2.1.1\"><span class=\"toc-item-num\">2.1.1&nbsp;&nbsp;</span><code>&amp;</code> (and)</a></span></li><li><span><a href=\"#|-(or)\" data-toc-modified-id=\"|-(or)-2.1.2\"><span class=\"toc-item-num\">2.1.2&nbsp;&nbsp;</span><code>|</code> (or)</a></span></li><li><span><a href=\"#^-(xor)\" data-toc-modified-id=\"^-(xor)-2.1.3\"><span class=\"toc-item-num\">2.1.3&nbsp;&nbsp;</span><code>^</code> (xor)</a></span></li></ul></li><li><span><a href=\"#~-(not)\" data-toc-modified-id=\"~-(not)-2.2\"><span class=\"toc-item-num\">2.2&nbsp;&nbsp;</span><code>~</code> (not)</a></span></li><li><span><a href=\"#shift-<<,->>\" data-toc-modified-id=\"shift-<<,->>-2.3\"><span class=\"toc-item-num\">2.3&nbsp;&nbsp;</span>shift <code>&lt;&lt;</code>, <code>&gt;&gt;</code></a></span></li></ul></li><li><span><a href=\"#Tricks\" data-toc-modified-id=\"Tricks-3\"><span class=\"toc-item-num\">3&nbsp;&nbsp;</span>Tricks</a></span><ul class=\"toc-item\"><li><span><a href=\"#Set-the-kth-bit\" data-toc-modified-id=\"Set-the-kth-bit-3.1\"><span class=\"toc-item-num\">3.1&nbsp;&nbsp;</span>Set the kth bit</a></span></li><li><span><a href=\"#Clear-the-kth-bit\" data-toc-modified-id=\"Clear-the-kth-bit-3.2\"><span class=\"toc-item-num\">3.2&nbsp;&nbsp;</span>Clear the kth bit</a></span></li><li><span><a href=\"#Toggle-the-kth-bit\" data-toc-modified-id=\"Toggle-the-kth-bit-3.3\"><span class=\"toc-item-num\">3.3&nbsp;&nbsp;</span>Toggle the kth bit</a></span></li><li><span><a href=\"#Extract-a-bit-field-by-using-BitMask\" data-toc-modified-id=\"Extract-a-bit-field-by-using-BitMask-3.4\"><span class=\"toc-item-num\">3.4&nbsp;&nbsp;</span>Extract a bit field by using BitMask</a></span></li><li><span><a href=\"#Set-a-bit-field\" data-toc-modified-id=\"Set-a-bit-field-3.5\"><span class=\"toc-item-num\">3.5&nbsp;&nbsp;</span>Set a bit field</a></span></li><li><span><a href=\"#Swap-two-integers-x-and-y\" data-toc-modified-id=\"Swap-two-integers-x-and-y-3.6\"><span class=\"toc-item-num\">3.6&nbsp;&nbsp;</span>Swap two integers x and y</a></span></li><li><span><a href=\"#Extract-Least-Significant-1\" data-toc-modified-id=\"Extract-Least-Significant-1-3.7\"><span class=\"toc-item-num\">3.7&nbsp;&nbsp;</span>Extract Least Significant 1</a></span></li><li><span><a href=\"#Remove-the-Least-Significant-1\" data-toc-modified-id=\"Remove-the-Least-Significant-1-3.8\"><span class=\"toc-item-num\">3.8&nbsp;&nbsp;</span>Remove the Least Significant 1</a></span></li></ul></li><li><span><a href=\"#When-to-use-Bit-Manipulation\" data-toc-modified-id=\"When-to-use-Bit-Manipulation-4\"><span class=\"toc-item-num\">4&nbsp;&nbsp;</span>When to use Bit Manipulation</a></span></li><li><span><a href=\"#Problems\" data-toc-modified-id=\"Problems-5\"><span class=\"toc-item-num\">5&nbsp;&nbsp;</span>Problems</a></span><ul class=\"toc-item\"><li><span><a href=\"#Number-of-1-Bits-（LC-191)\" data-toc-modified-id=\"Number-of-1-Bits-（LC-191)-5.1\"><span class=\"toc-item-num\">5.1&nbsp;&nbsp;</span>Number of 1 Bits （LC 191)</a></span></li><li><span><a href=\"#Power-of-Four-(LC-342)\" data-toc-modified-id=\"Power-of-Four-(LC-342)-5.2\"><span class=\"toc-item-num\">5.2&nbsp;&nbsp;</span>Power of Four (LC 342)</a></span></li><li><span><a href=\"#Missing-Number-(LC-268)\" data-toc-modified-id=\"Missing-Number-(LC-268)-5.3\"><span class=\"toc-item-num\">5.3&nbsp;&nbsp;</span>Missing Number (LC 268)</a></span></li><li><span><a href=\"#Queens-Problem\" data-toc-modified-id=\"Queens-Problem-5.4\"><span class=\"toc-item-num\">5.4&nbsp;&nbsp;</span>Queens Problem</a></span><ul class=\"toc-item\"><li><span><a href=\"#BitManipulation-Solution\" data-toc-modified-id=\"BitManipulation-Solution-5.4.1\"><span class=\"toc-item-num\">5.4.1&nbsp;&nbsp;</span>BitManipulation Solution</a></span></li></ul></li></ul></li><li><span><a href=\"#Exercise\" data-toc-modified-id=\"Exercise-6\"><span class=\"toc-item-num\">6&nbsp;&nbsp;</span>Exercise</a></span></li><li><span><a href=\"#Reference\" data-toc-modified-id=\"Reference-7\"><span class=\"toc-item-num\">7&nbsp;&nbsp;</span>Reference</a></span></li></ul></div>"
   ]
  },
  {
   "cell_type": "code",
   "execution_count": 1,
   "metadata": {
    "ExecuteTime": {
     "end_time": "2021-02-26T23:58:47.419590Z",
     "start_time": "2021-02-26T23:58:47.299470Z"
    }
   },
   "outputs": [],
   "source": [
    "import numpy as np\n",
    "import math\n",
    "import sys\n",
    "import time\n",
    "import ctypes\n",
    "from typing import List"
   ]
  },
  {
   "cell_type": "markdown",
   "metadata": {},
   "source": [
    "# Introduction\n",
    "Quote:\n",
    "> There are only 10 types of people in the world: those who understand binary, and those who don't."
   ]
  },
  {
   "cell_type": "markdown",
   "metadata": {},
   "source": [
    "## Definition"
   ]
  },
  {
   "cell_type": "markdown",
   "metadata": {},
   "source": [
    "[Wikipedia](https://en.wikipedia.org/wiki/Bit_manipulation):\n",
    ">Bit manipulation is the act of algorithmically manipulating **bits or other pieces of data shorter than a word**. Computer programming tasks that require bit manipulation include **low-level device control**, error detection and correction algorithms, **data compression**, encryption algorithms, and **optimization**. ..... Source code that does bit manipulation makes use of the bitwise operations: **AND, OR, XOR, NOT, and bit shifts**.\n",
    "\n",
    ">Bit manipulation, in some cases, can **obviate or reduce the need to loop over a data structure and can give many-fold speed ups, as bit manipulations are processed in parallel, but the code can become more difficult to write and maintain.**"
   ]
  },
  {
   "cell_type": "markdown",
   "metadata": {},
   "source": [
    "For illustration purpose, we mainly concentrate on **8-bit integer** here.\n",
    "- signed: -128 to 127\n",
    "- unsigned : 0 to 255"
   ]
  },
  {
   "cell_type": "markdown",
   "metadata": {},
   "source": [
    "## Bit representation"
   ]
  },
  {
   "cell_type": "code",
   "execution_count": 2,
   "metadata": {
    "ExecuteTime": {
     "end_time": "2021-02-26T23:58:47.427592Z",
     "start_time": "2021-02-26T23:58:47.420968Z"
    }
   },
   "outputs": [
    {
     "name": "stdout",
     "output_type": "stream",
     "text": [
      "150\n"
     ]
    },
    {
     "data": {
      "text/plain": [
       "'0b10010110'"
      ]
     },
     "execution_count": 2,
     "metadata": {},
     "output_type": "execute_result"
    }
   ],
   "source": [
    "num = int(\"10010110\", base=2)\n",
    "print(num)\n",
    "bin(num)  # 0b designates a boolean constant"
   ]
  },
  {
   "cell_type": "code",
   "execution_count": 3,
   "metadata": {
    "ExecuteTime": {
     "end_time": "2021-02-26T23:58:47.439474Z",
     "start_time": "2021-02-26T23:58:47.428846Z"
    }
   },
   "outputs": [
    {
     "data": {
      "text/plain": [
       "'0x96'"
      ]
     },
     "execution_count": 3,
     "metadata": {},
     "output_type": "execute_result"
    }
   ],
   "source": [
    "# likewise, 0x for hexadecimal numeric constants in computing\n",
    "hex(num) "
   ]
  },
  {
   "cell_type": "code",
   "execution_count": 4,
   "metadata": {
    "ExecuteTime": {
     "end_time": "2021-02-26T23:58:47.447474Z",
     "start_time": "2021-02-26T23:58:47.440902Z"
    }
   },
   "outputs": [
    {
     "data": {
      "text/plain": [
       "('10010110', '10010110')"
      ]
     },
     "execution_count": 4,
     "metadata": {},
     "output_type": "execute_result"
    }
   ],
   "source": [
    "# representation without 0b\n",
    "\"{0:b}\".format(150), format(150, \"b\")"
   ]
  },
  {
   "cell_type": "markdown",
   "metadata": {},
   "source": [
    "### Unsigned\n",
    "Let $x=\\left\\langle x_{w-1} x_{w-2} \\ldots x_{0}\\right\\rangle$ be a **$w$** bit computer word, the **unsigned integer** value is\n",
    "$$\n",
    "x=\\sum_{k=0}^{w-1} x_{k} 2^{k}\n",
    "$$\n",
    "For example, the 8-bit word 0b10010110 represents the unsigned value 150 = 2 + 4 + 16 + 128.\n",
    "- Python does NOT have an unsigned type by default, which brings more cautious effort in the `not (^)` operator part.\n",
    "- To achieve it, we can use:\n",
    "    1. _ctypes_\n",
    "    2. _bitmask_"
   ]
  },
  {
   "cell_type": "code",
   "execution_count": 5,
   "metadata": {
    "ExecuteTime": {
     "end_time": "2021-02-26T23:58:47.455495Z",
     "start_time": "2021-02-26T23:58:47.449394Z"
    }
   },
   "outputs": [
    {
     "name": "stdout",
     "output_type": "stream",
     "text": [
      "255\n",
      "c_ubyte(255)\n",
      "c_ubyte(0)\n"
     ]
    }
   ],
   "source": [
    "# largest 8 bit number\n",
    "largest_8_bit_num = int(\"11111111\", base=2)\n",
    "print(largest_8_bit_num)\n",
    "print(ctypes.c_uint8(largest_8_bit_num))\n",
    "print(ctypes.c_uint8(largest_8_bit_num+1))"
   ]
  },
  {
   "cell_type": "code",
   "execution_count": 6,
   "metadata": {
    "ExecuteTime": {
     "end_time": "2021-02-26T23:58:47.462359Z",
     "start_time": "2021-02-26T23:58:47.457042Z"
    }
   },
   "outputs": [
    {
     "name": "stdout",
     "output_type": "stream",
     "text": [
      "255\n",
      "255\n",
      "0\n"
     ]
    }
   ],
   "source": [
    "bitmask_uint8 = int(\"11111111\", 2)\n",
    "print(largest_8_bit_num)\n",
    "print(bitmask_uint8 & largest_8_bit_num)\n",
    "print(bitmask_uint8 & (largest_8_bit_num+1))"
   ]
  },
  {
   "cell_type": "markdown",
   "metadata": {},
   "source": [
    "### Signed\n",
    "Each number in python is signed as default.\n",
    "\n",
    "The signed integer (two’s complement) value stored in x is\n",
    "$$\n",
    "x=\\left(\\sum_{k=0}^{w-2} x_{k} 2^{k}\\right)-x_{w-1} 2^{w-1}\n",
    "$$\n",
    "For example, the 8-bit word 0b10010110 represents the signed value -106 = 2 + 4 + 16 - 128"
   ]
  },
  {
   "cell_type": "markdown",
   "metadata": {},
   "source": [
    "#### Two's complement\n",
    "We have 0b00...0 = 0. What is the value of x = 0b11...1? \n",
    "$$\n",
    "\\begin{aligned}\n",
    "x &=\\left(\\sum_{k=0}^{w-2} x_{k} 2^{k}\\right)-x_{w-1} 2^{w-1} \\\\\n",
    "&=\\left(\\sum_{k=0}^{w-2} 2^{k}\\right)-2^{w-1} \\\\\n",
    "&=\\left(2^{w-1}-1\\right)-2^{w-1} \\\\\n",
    "&=-1\n",
    "\\end{aligned}\n",
    "$$"
   ]
  },
  {
   "cell_type": "markdown",
   "metadata": {},
   "source": [
    "#### Complementary Relationship \n",
    "                                        x + ~ x = -1 ——————> -x = ~x + 1 "
   ]
  },
  {
   "cell_type": "code",
   "execution_count": 7,
   "metadata": {
    "ExecuteTime": {
     "end_time": "2021-02-26T23:58:47.471450Z",
     "start_time": "2021-02-26T23:58:47.463581Z"
    }
   },
   "outputs": [
    {
     "data": {
      "text/plain": [
       "('10010110', '-10010111', -1)"
      ]
     },
     "execution_count": 7,
     "metadata": {},
     "output_type": "execute_result"
    }
   ],
   "source": [
    "# the ~x has a special representation called\n",
    "x = 150\n",
    "format(x, \"b\"), format(~x, \"b\"), ~x + x"
   ]
  },
  {
   "cell_type": "markdown",
   "metadata": {},
   "source": [
    "As Python use **unbounded signed** integer by default, it choose a different binary representation regarding the negative numbers. \n",
    "\n",
    "                                                ~x = - 1 - x."
   ]
  },
  {
   "cell_type": "code",
   "execution_count": 8,
   "metadata": {
    "ExecuteTime": {
     "end_time": "2021-02-26T23:58:47.478701Z",
     "start_time": "2021-02-26T23:58:47.473236Z"
    }
   },
   "outputs": [
    {
     "name": "stdout",
     "output_type": "stream",
     "text": [
      "format((1+x),\"b\"):    10010111\n",
      "format(-(1+x),\"b\"):  -10010111\n",
      "format(~x,\"b\"):      -10010111\n"
     ]
    }
   ],
   "source": [
    "print('{:<21}'.format('format((1+x),\"b\"):'), format((1+x), \"b\"))\n",
    "print('{:<20}'.format('format(-(1+x),\"b\"):'), format(-(1+x), \"b\"))\n",
    "print('{:<20}'.format('format(~x,\"b\"):'), format(~x, \"b\"))"
   ]
  },
  {
   "cell_type": "markdown",
   "metadata": {},
   "source": [
    "## Least Significant Bit (LSB) and Most Significant Bit (MSB)"
   ]
  },
  {
   "cell_type": "markdown",
   "metadata": {},
   "source": [
    "[Wikipedia](https://en.wikipedia.org/wiki/Bit_numbering)\n",
    "> the **least significant bit (LSB)** is the bit position in a binary integer giving the units value, that is, **determining whether the number is even or odd**. The LSB is sometimes referred to as the low-order bit or right-most bit, due to the convention in positional notation of writing less significant digits further to the right. \n",
    "\n",
    ">  the **most significant bit (MSB)** is the bit position in a binary number having the greatest value. The MSB is sometimes referred to as the high-order bit or left-most bit due to the convention in positional notation of writing more significant digits further to the left."
   ]
  },
  {
   "cell_type": "markdown",
   "metadata": {},
   "source": [
    "# Basic Operator"
   ]
  },
  {
   "cell_type": "markdown",
   "metadata": {},
   "source": [
    "![](https://cdn.mathpix.com/snip/images/x9X7vsSVhhkKZbaj5hVRJ452mb8ZwNOnZDzPBXBFBAY.original.fullsize.png)"
   ]
  },
  {
   "cell_type": "markdown",
   "metadata": {},
   "source": [
    "## `&` (and), `|` (or), `^` (exclusive-or, xor)"
   ]
  },
  {
   "cell_type": "code",
   "execution_count": 9,
   "metadata": {
    "ExecuteTime": {
     "end_time": "2021-02-26T23:58:47.486600Z",
     "start_time": "2021-02-26T23:58:47.480523Z"
    }
   },
   "outputs": [
    {
     "name": "stdout",
     "output_type": "stream",
     "text": [
      "a:22(   10110)\n",
      "b:15(    1111)\n"
     ]
    }
   ],
   "source": [
    "a = 22\n",
    "b = 15\n",
    "print(\"a:{}({:>8b})\".format(a, a))\n",
    "print(\"b:{}({:>8b})\".format(b, b))"
   ]
  },
  {
   "cell_type": "markdown",
   "metadata": {},
   "source": [
    "### `&` (and)"
   ]
  },
  {
   "cell_type": "markdown",
   "metadata": {},
   "source": [
    "![SegmentLocal](images/and.gif \"and\")"
   ]
  },
  {
   "cell_type": "code",
   "execution_count": 10,
   "metadata": {
    "ExecuteTime": {
     "end_time": "2021-02-26T23:58:47.494457Z",
     "start_time": "2021-02-26T23:58:47.488058Z"
    }
   },
   "outputs": [
    {
     "name": "stdout",
     "output_type": "stream",
     "text": [
      "22(   10110) & 15(    1111) = 6(     110)\n"
     ]
    }
   ],
   "source": [
    "print(\"{}({:>8b}) & {}({:>8b}) = {}({:>8b})\".format(a, a, b, b, a & b, a & b))"
   ]
  },
  {
   "cell_type": "markdown",
   "metadata": {},
   "source": [
    "### `|` (or)"
   ]
  },
  {
   "cell_type": "markdown",
   "metadata": {},
   "source": [
    "![SegmentLocal](images/or.gif \"or\")"
   ]
  },
  {
   "cell_type": "code",
   "execution_count": 11,
   "metadata": {
    "ExecuteTime": {
     "end_time": "2021-02-26T23:58:47.504623Z",
     "start_time": "2021-02-26T23:58:47.495559Z"
    }
   },
   "outputs": [
    {
     "name": "stdout",
     "output_type": "stream",
     "text": [
      "22(   10110) | 15(    1111) = 31(   11111)\n"
     ]
    }
   ],
   "source": [
    "print(\"{}({:>8b}) | {}({:>8b}) = {}({:>8b})\".format(a, a, b, b, a | b, a | b))"
   ]
  },
  {
   "cell_type": "markdown",
   "metadata": {},
   "source": [
    "### `^` (xor)"
   ]
  },
  {
   "cell_type": "markdown",
   "metadata": {},
   "source": [
    "![SegmentLocal](images/xor.gif \"xor\")"
   ]
  },
  {
   "cell_type": "code",
   "execution_count": 12,
   "metadata": {
    "ExecuteTime": {
     "end_time": "2021-02-26T23:58:47.512466Z",
     "start_time": "2021-02-26T23:58:47.505762Z"
    }
   },
   "outputs": [
    {
     "name": "stdout",
     "output_type": "stream",
     "text": [
      "22(   10110) ^ 15(    1111) = 25(   11001)\n"
     ]
    }
   ],
   "source": [
    "print(\"{}({:>8b}) ^ {}({:>8b}) = {}({:>8b})\".format(a, a, b, b, a ^ b, a ^ b))"
   ]
  },
  {
   "cell_type": "markdown",
   "metadata": {},
   "source": [
    "## `~` (not)"
   ]
  },
  {
   "cell_type": "markdown",
   "metadata": {},
   "source": [
    "![SegmentLocal](images/not.webp \"not\")"
   ]
  },
  {
   "cell_type": "code",
   "execution_count": 13,
   "metadata": {
    "ExecuteTime": {
     "end_time": "2021-02-26T23:58:47.520206Z",
     "start_time": "2021-02-26T23:58:47.513490Z"
    }
   },
   "outputs": [
    {
     "name": "stdout",
     "output_type": "stream",
     "text": [
      "Unsigned Version: ~22(10110) = 233(11101001)\n",
      "Unsigned Version: ~15(1111) = 240(11110000)\n"
     ]
    }
   ],
   "source": [
    "print(\"Unsigned Version: ~{}({:b}) = {}({:b})\".format(a, a, ~a & 255, ~a & 255))\n",
    "print(\"Unsigned Version: ~{}({:b}) = {}({:b})\".format(b, b, ~b & 255, ~b & 255))"
   ]
  },
  {
   "cell_type": "code",
   "execution_count": 14,
   "metadata": {
    "ExecuteTime": {
     "end_time": "2021-02-26T23:58:47.527595Z",
     "start_time": "2021-02-26T23:58:47.521211Z"
    }
   },
   "outputs": [
    {
     "name": "stdout",
     "output_type": "stream",
     "text": [
      "Signed Version: ~22(10110) = -23(-10111)\n",
      "Signed Version: ~15(1111) = -16(-10000)\n"
     ]
    }
   ],
   "source": [
    "print(\"Signed Version: ~{}({:b}) = {}({:b})\".format(a, a, ~a, ~a))\n",
    "print(\"Signed Version: ~{}({:b}) = {}({:b})\".format(b, b, ~b, ~b))"
   ]
  },
  {
   "cell_type": "markdown",
   "metadata": {},
   "source": [
    "## shift `<<`, `>>`"
   ]
  },
  {
   "cell_type": "code",
   "execution_count": 15,
   "metadata": {
    "ExecuteTime": {
     "end_time": "2021-02-26T23:58:47.535529Z",
     "start_time": "2021-02-26T23:58:47.528903Z"
    }
   },
   "outputs": [
    {
     "name": "stdout",
     "output_type": "stream",
     "text": [
      "22(10110) << 2 = 88(1011000)\n",
      "22(10110) << 3 = 176(10110000)\n",
      "22(10110) >> 2 = 5(101)\n",
      "22(10110) >> 4 = 1(1)\n",
      "22(10110) >> 5 = 0(0)\n",
      "22(10110) >> 6 = 0(0)\n"
     ]
    }
   ],
   "source": [
    "print(\"{}({:b}) << {} = {}({:b})\".format(a, a, 2, a << 2, a << 2))\n",
    "print(\"{}({:b}) << {} = {}({:b})\".format(a, a, 3, a << 3, a << 3))\n",
    "print(\"{}({:b}) >> {} = {}({:b})\".format(a, a, 2, a >> 2, a >> 2))\n",
    "print(\"{}({:b}) >> {} = {}({:b})\".format(a, a, 4, a >> 4, a >> 4))\n",
    "print(\"{}({:b}) >> {} = {}({:b})\".format(a, a, 5, a >> 5, a >> 5))\n",
    "print(\"{}({:b}) >> {} = {}({:b})\".format(a, a, 6, a >> 6, a >> 6))"
   ]
  },
  {
   "cell_type": "markdown",
   "metadata": {},
   "source": [
    "# Tricks"
   ]
  },
  {
   "cell_type": "markdown",
   "metadata": {},
   "source": [
    "## Set the kth bit\n",
    "- idea: Shift and OR: $y=x \\mid(1<<k)$"
   ]
  },
  {
   "cell_type": "code",
   "execution_count": 16,
   "metadata": {
    "ExecuteTime": {
     "end_time": "2021-02-26T23:58:47.543309Z",
     "start_time": "2021-02-26T23:58:47.536529Z"
    }
   },
   "outputs": [
    {
     "data": {
      "text/plain": [
       "('11001', '11101')"
      ]
     },
     "execution_count": 16,
     "metadata": {},
     "output_type": "execute_result"
    }
   ],
   "source": [
    "x = 25\n",
    "format(x, \"b\"), format(x | (1 << 2), \"b\")"
   ]
  },
  {
   "cell_type": "markdown",
   "metadata": {},
   "source": [
    "## Clear the kth bit\n",
    "- idea: Shift, Complement and AND: $y=x \\& \\sim(1<<k)$"
   ]
  },
  {
   "cell_type": "code",
   "execution_count": 17,
   "metadata": {
    "ExecuteTime": {
     "end_time": "2021-02-26T23:58:47.551600Z",
     "start_time": "2021-02-26T23:58:47.544197Z"
    }
   },
   "outputs": [
    {
     "data": {
      "text/plain": [
       "('11001', '10001')"
      ]
     },
     "execution_count": 17,
     "metadata": {},
     "output_type": "execute_result"
    }
   ],
   "source": [
    "x = 25\n",
    "format(x, \"b\"), format(x & ~(1 << 3), \"b\")"
   ]
  },
  {
   "cell_type": "markdown",
   "metadata": {},
   "source": [
    "## Toggle the kth bit\n",
    "- idea: shift and XOR: y=x \\^ (1<<k)"
   ]
  },
  {
   "cell_type": "code",
   "execution_count": 18,
   "metadata": {
    "ExecuteTime": {
     "end_time": "2021-02-26T23:58:47.559253Z",
     "start_time": "2021-02-26T23:58:47.552518Z"
    }
   },
   "outputs": [
    {
     "data": {
      "text/plain": [
       "('11001', '10001')"
      ]
     },
     "execution_count": 18,
     "metadata": {},
     "output_type": "execute_result"
    }
   ],
   "source": [
    "x = 25\n",
    "format(x, \"b\"), format(x ^ (1 << 3), \"b\")"
   ]
  },
  {
   "cell_type": "markdown",
   "metadata": {},
   "source": [
    "## Extract a bit field by using BitMask\n",
    "- Idea: Mask and shift: $(x \\& \\text{mask})>> \\text{shift}$"
   ]
  },
  {
   "cell_type": "code",
   "execution_count": 19,
   "metadata": {
    "ExecuteTime": {
     "end_time": "2021-02-26T23:58:47.566333Z",
     "start_time": "2021-02-26T23:58:47.560151Z"
    }
   },
   "outputs": [
    {
     "name": "stdout",
     "output_type": "stream",
     "text": [
      "x:232(11101000)\n",
      "Bit from 5 to 8th place:1110\n"
     ]
    }
   ],
   "source": [
    "mask = int(\"11110000\", 2)  # get the bit from 5 to 8\n",
    "x = 232\n",
    "print(\"x:{}({:>8b})\".format(x, x))\n",
    "print(\"Bit from 5 to 8th place:{:b}\".format((mask & x) >> 4))"
   ]
  },
  {
   "cell_type": "markdown",
   "metadata": {},
   "source": [
    "## Set a bit field\n",
    "- Idea: Invert mask to clear, and OR the shift value: $x=(x \\& \\sim \\text{mask}) \\mid(y<< \\text{shift}) ;$"
   ]
  },
  {
   "cell_type": "code",
   "execution_count": 20,
   "metadata": {
    "ExecuteTime": {
     "end_time": "2021-02-26T23:58:47.572757Z",
     "start_time": "2021-02-26T23:58:47.568162Z"
    }
   },
   "outputs": [
    {
     "data": {
      "text/plain": [
       "'11011010'"
      ]
     },
     "execution_count": 20,
     "metadata": {},
     "output_type": "execute_result"
    }
   ],
   "source": [
    "x = int(\"11001010\", 2)\n",
    "mask = int(\"00001111\", 2)\n",
    "y = int(\"00001101\", 2)\n",
    "format(x & mask | y << 4, \"b\")"
   ]
  },
  {
   "cell_type": "markdown",
   "metadata": {},
   "source": [
    "## Swap two integers x and y\n",
    "- Idea: use XOR"
   ]
  },
  {
   "cell_type": "code",
   "execution_count": 21,
   "metadata": {
    "ExecuteTime": {
     "end_time": "2021-02-26T23:58:47.580090Z",
     "start_time": "2021-02-26T23:58:47.573821Z"
    }
   },
   "outputs": [
    {
     "data": {
      "text/plain": [
       "(3, 10)"
      ]
     },
     "execution_count": 21,
     "metadata": {},
     "output_type": "execute_result"
    }
   ],
   "source": [
    "x, y = 10, 3\n",
    "x = x ^ y\n",
    "y = x ^ y  # (x^y)^y = x\n",
    "x = x ^ y  # (x^y)^x = y\n",
    "x, y"
   ]
  },
  {
   "cell_type": "markdown",
   "metadata": {},
   "source": [
    "## Extract Least Significant 1\n",
    "- Idea: & and ~: `x & ~(x-1)` or `x & -x`"
   ]
  },
  {
   "cell_type": "code",
   "execution_count": 22,
   "metadata": {
    "ExecuteTime": {
     "end_time": "2021-02-26T23:58:47.586525Z",
     "start_time": "2021-02-26T23:58:47.581181Z"
    }
   },
   "outputs": [
    {
     "name": "stdout",
     "output_type": "stream",
     "text": [
      "Regarding 232(11101000), place of Least Significant 1: 3\n"
     ]
    }
   ],
   "source": [
    "x = 232\n",
    "least_significant_1_mask = x & -x\n",
    "print(\"Regarding {}({}), place of Least Significant 1: {}\".format(\n",
    "    x, format(x, \"b\"), int(math.log2(least_significant_1_mask))))"
   ]
  },
  {
   "cell_type": "code",
   "execution_count": 23,
   "metadata": {
    "ExecuteTime": {
     "end_time": "2021-02-26T23:58:47.596167Z",
     "start_time": "2021-02-26T23:58:47.587517Z"
    }
   },
   "outputs": [
    {
     "data": {
      "text/plain": [
       "'11100111'"
      ]
     },
     "execution_count": 23,
     "metadata": {},
     "output_type": "execute_result"
    }
   ],
   "source": [
    "format(232-1,\"b\")"
   ]
  },
  {
   "cell_type": "markdown",
   "metadata": {},
   "source": [
    "## Remove the Least Significant 1\n",
    "- Idea: & : `x & (x-1)`"
   ]
  },
  {
   "cell_type": "code",
   "execution_count": 24,
   "metadata": {
    "ExecuteTime": {
     "end_time": "2021-02-26T23:58:47.603891Z",
     "start_time": "2021-02-26T23:58:47.597515Z"
    }
   },
   "outputs": [
    {
     "data": {
      "text/plain": [
       "True"
      ]
     },
     "execution_count": 24,
     "metadata": {},
     "output_type": "execute_result"
    }
   ],
   "source": [
    "x & (x-1) == x - least_significant_1_mask"
   ]
  },
  {
   "cell_type": "markdown",
   "metadata": {},
   "source": [
    "# When to use Bit Manipulation\n",
    "1. Number Operation (add, minus, power)\n",
    "2. Set Operation (&, |, ^, ~)\n",
    "3. Mask"
   ]
  },
  {
   "cell_type": "markdown",
   "metadata": {},
   "source": [
    "# Problems"
   ]
  },
  {
   "cell_type": "markdown",
   "metadata": {},
   "source": [
    "## Number of 1 Bits （LC 191)\n",
    "Write a function that takes an unsigned integer and returns the number of '1' bits it has (also known as the Hamming weight)."
   ]
  },
  {
   "cell_type": "code",
   "execution_count": 25,
   "metadata": {
    "ExecuteTime": {
     "end_time": "2021-02-26T23:58:47.611436Z",
     "start_time": "2021-02-26T23:58:47.604707Z"
    }
   },
   "outputs": [],
   "source": [
    "class Solution:\n",
    "    def hammingWeight_1(self, n):\n",
    "        # & and shift\n",
    "        # 32 ms, 14.2 MB\n",
    "        res = 0\n",
    "        while n:\n",
    "            res += n & 1\n",
    "            n = n >> 1\n",
    "        return res\n",
    "\n",
    "    cache = {num: bin(num).count(\"1\") for num in range(256)}\n",
    "\n",
    "    def hammingWeight_2(self, n):\n",
    "        # bit mask\n",
    "        # 20 ms (faster than 99.41%), 14.4 MB\n",
    "        res = 0\n",
    "        while n:\n",
    "            res += self.cache[255 & n]\n",
    "            n >>= 8\n",
    "        return res\n",
    "\n",
    "    # Create Masks\n",
    "    M5 = ~((-1) << 32)  # 0^32 1^32\n",
    "    M4 = M5 ^ (M5 << 16)  # (0^16 1^16)^2\n",
    "    M3 = M4 ^ (M4 << 8)  # (0^8 1^8)^4\n",
    "    M2 = M3 ^ (M3 << 4)  # (0^4 1^4)^8\n",
    "    M1 = M2 ^ (M2 << 2)  # (0^2 1^2)^16\n",
    "    M0 = M1 ^ (M1 << 1)  # (01)^32\n",
    "\n",
    "    def hammingWeight_3(self, n):\n",
    "        # parallel divide and conquer\n",
    "        # reference: https://ocw.mit.edu/courses/electrical-engineering-and-computer-science/6-172-performance-engineering-of-software-systems-fall-2018/lecture-slides/MIT6_172F18_lec3.pdf\n",
    "        # 24 ms (faster than 97.26% ), 14.3 MB\n",
    "        n = ((n >> 1) & self.M0) + (n & self.M0)\n",
    "        n = ((n >> 2) & self.M1) + (n & self.M1)\n",
    "        n = ((n >> 4) + n) & self.M2\n",
    "        n = ((n >> 8) + n) & self.M3\n",
    "        n = ((n >> 16) + n) & self.M4\n",
    "        n = ((n >> 32) + n) & self.M5\n",
    "        return n\n",
    "\n",
    "    def hammingWeight_trick(self, n):\n",
    "        # 20 ms (faster than 99.41%), 14.1 MB\n",
    "        return bin(n).count(\"1\")"
   ]
  },
  {
   "cell_type": "code",
   "execution_count": 26,
   "metadata": {
    "ExecuteTime": {
     "end_time": "2021-02-26T23:58:47.629265Z",
     "start_time": "2021-02-26T23:58:47.612691Z"
    }
   },
   "outputs": [],
   "source": [
    "soln = Solution()\n",
    "nums = np.random.randint(0, high=int(2**63-1), size=int(10**6))"
   ]
  },
  {
   "cell_type": "code",
   "execution_count": 27,
   "metadata": {
    "ExecuteTime": {
     "end_time": "2021-02-26T23:58:47.632205Z",
     "start_time": "2021-02-26T23:58:47.630247Z"
    }
   },
   "outputs": [],
   "source": [
    "def check_time(nums, func):\n",
    "    t1 = time.time()\n",
    "    for num in nums:\n",
    "        func(num)\n",
    "    t2 = time.time()\n",
    "    return (t2-t1) * 1000  # seconds to milliseconds"
   ]
  },
  {
   "cell_type": "code",
   "execution_count": 28,
   "metadata": {
    "ExecuteTime": {
     "end_time": "2021-02-26T23:59:22.750559Z",
     "start_time": "2021-02-26T23:58:47.633132Z"
    }
   },
   "outputs": [
    {
     "name": "stdout",
     "output_type": "stream",
     "text": [
      "hammingWeight_1 take 26746.37 milliseconds\n",
      "hammingWeight_2 take 4322.22 milliseconds\n",
      "hammingWeight_3 take 3482.38 milliseconds\n",
      "hammingWeight_trick take 561.42 milliseconds\n"
     ]
    }
   ],
   "source": [
    "print(\"hammingWeight_1 take {:.2f} milliseconds\".format(check_time(nums,soln.hammingWeight_1)))\n",
    "print(\"hammingWeight_2 take {:.2f} milliseconds\".format(check_time(nums,soln.hammingWeight_2)))\n",
    "print(\"hammingWeight_3 take {:.2f} milliseconds\".format(check_time(nums,soln.hammingWeight_3)))\n",
    "print(\"hammingWeight_trick take {:.2f} milliseconds\".format(check_time(nums,soln.hammingWeight_trick)))"
   ]
  },
  {
   "cell_type": "markdown",
   "metadata": {},
   "source": [
    "## Power of Four (LC 342)\n",
    "Given an integer n, return true if it is a power of four. Otherwise, return false.\n",
    "- Constraints: $-2^{31} \\le n \\le 2^{31} - 1$\n",
    "- Follow up: Could you solve it without loops/recursion?"
   ]
  },
  {
   "cell_type": "code",
   "execution_count": 29,
   "metadata": {
    "ExecuteTime": {
     "end_time": "2021-02-26T23:59:22.754876Z",
     "start_time": "2021-02-26T23:59:22.752147Z"
    }
   },
   "outputs": [],
   "source": [
    "class Solution:\n",
    "    def isPowerOfFour_1(self, n: int) -> bool:\n",
    "        if n == 1:\n",
    "            return True\n",
    "        elif n % 4 != 0:\n",
    "            return False\n",
    "        else:\n",
    "            return self.isPowerOfFour_1(n // 4)\n",
    "\n",
    "    def isPowerOfFour_2(self, n: int) -> bool:\n",
    "        return not(n & (n-1)) and (n & 0x55555555)"
   ]
  },
  {
   "cell_type": "code",
   "execution_count": 30,
   "metadata": {
    "ExecuteTime": {
     "end_time": "2021-02-26T23:59:22.766468Z",
     "start_time": "2021-02-26T23:59:22.755915Z"
    }
   },
   "outputs": [
    {
     "data": {
      "text/plain": [
       "(31, '1010101010101010101010101010101')"
      ]
     },
     "execution_count": 30,
     "metadata": {},
     "output_type": "execute_result"
    }
   ],
   "source": [
    "len(format(0x55555555, \"b\")),format(0x55555555, \"b\")"
   ]
  },
  {
   "cell_type": "code",
   "execution_count": 31,
   "metadata": {
    "ExecuteTime": {
     "end_time": "2021-02-26T23:59:24.020427Z",
     "start_time": "2021-02-26T23:59:22.768054Z"
    }
   },
   "outputs": [
    {
     "name": "stdout",
     "output_type": "stream",
     "text": [
      "isPowerOfFour_1 take 843.81 milliseconds\n",
      "isPowerOfFour_2 take 402.60 milliseconds\n"
     ]
    }
   ],
   "source": [
    "soln = Solution()\n",
    "print(\"isPowerOfFour_1 take {:.2f} milliseconds\".format(check_time(nums,soln.isPowerOfFour_1)))\n",
    "print(\"isPowerOfFour_2 take {:.2f} milliseconds\".format(check_time(nums,soln.isPowerOfFour_2)))"
   ]
  },
  {
   "cell_type": "markdown",
   "metadata": {},
   "source": [
    "## Missing Number (LC 268)\n",
    "Given an array containing n distinct numbers taken from 0, 1, 2, ..., n, find the one that is missing from the array. For example, Given nums = [0, 1, 3] return 2."
   ]
  },
  {
   "cell_type": "code",
   "execution_count": 32,
   "metadata": {
    "ExecuteTime": {
     "end_time": "2021-02-26T23:59:24.025076Z",
     "start_time": "2021-02-26T23:59:24.022063Z"
    }
   },
   "outputs": [],
   "source": [
    "class Solution:\n",
    "    def missingNumber_1(self, nums):\n",
    "        # math way\n",
    "        expected_sum = len(nums) * (len(nums) + 1) // 2\n",
    "        actual_sum = sum(nums)\n",
    "        return expected_sum - actual_sum\n",
    "\n",
    "    def missingNumber_2(self, nums):\n",
    "        # use ^\n",
    "        n = len(nums)\n",
    "        res = 0\n",
    "        for i in range(n):\n",
    "            res ^= i\n",
    "            res ^= nums[i]\n",
    "        return res ^ n"
   ]
  },
  {
   "cell_type": "markdown",
   "metadata": {},
   "source": [
    "## Queens Problem\n",
    "The **n-queens** puzzle is the problem of placing `n` queens on an `n x n` chessboard such that no two queens attack each other.\n",
    "\n",
    "Given an integer `n`, return all distinct solutions to the **n-queens puzzle**.\n",
    "\n",
    "Each solution contains a distinct board configuration of the n-queens' placement, where 'Q' and '.' both indicate a queen and an empty space, respectively.\n",
    "\n",
    "- Constraints: 1 <= n <= 9"
   ]
  },
  {
   "cell_type": "markdown",
   "metadata": {
    "ExecuteTime": {
     "end_time": "2021-02-23T22:18:11.666133Z",
     "start_time": "2021-02-23T22:18:11.663478Z"
    }
   },
   "source": [
    "<img src=\"images/n-queens.png\" width=\"700\">"
   ]
  },
  {
   "cell_type": "markdown",
   "metadata": {},
   "source": [
    "### BitManipulation Solution"
   ]
  },
  {
   "cell_type": "markdown",
   "metadata": {},
   "source": [
    "Down             |  Left  |  Right\n",
    ":-------------------------:|:-------------------------:|:-------------------------:\n",
    "<img src=\"images/down.png\" width=\"300\"> |  <img src=\"images/left.png\" width=\"300\">  |  <img src=\"images/right.png\" width=\"300\"> "
   ]
  },
  {
   "cell_type": "code",
   "execution_count": 33,
   "metadata": {
    "ExecuteTime": {
     "end_time": "2021-02-26T23:59:24.033641Z",
     "start_time": "2021-02-26T23:59:24.026379Z"
    }
   },
   "outputs": [],
   "source": [
    "class Solution:\n",
    "    def solveNQueens(self, n: int) -> List[List[str]]:\n",
    "        res = []\n",
    "        down, left, right, temp = [0] * n, [0] * (2*n-1), [0] * (2*n-1), [None] * n\n",
    "        def backtrack(row, down, left, right, temp):\n",
    "            if row == n:\n",
    "                temp_res = []\n",
    "                for r in range(n):\n",
    "                    c = temp[r]\n",
    "                    temp_res.append(\".\"*c+\"Q\"+\".\"*(n-c-1))\n",
    "                res.append(temp_res)\n",
    "                return\n",
    "            for col in range(n):\n",
    "                if down[col] == 0 and left[row+col] == 0 and right[n-1-row+col] == 0:\n",
    "                    down[col], left[row+col], right[n-1-row+col], temp[row] = 1, 1, 1, col\n",
    "                    backtrack(row+1, down, left, right, temp)\n",
    "                    down[col], left[row+col], right[n-1-row+col], temp[row] = 0, 0, 0, None\n",
    "        backtrack(0, down, left, right, temp)\n",
    "        return res"
   ]
  },
  {
   "cell_type": "markdown",
   "metadata": {},
   "source": [
    "# Exercise"
   ]
  },
  {
   "cell_type": "markdown",
   "metadata": {},
   "source": [
    "1. https://leetcode.com/problems/single-number/ (LC 136)\n",
    "2. https://leetcode.com/problems/bitwise-and-of-numbers-range/ (LC  201)\n",
    "3. https://leetcode.com/problems/maximum-product-of-word-lengths/ (LC 318)\n",
    "4. https://leetcode.com/problems/sum-of-two-integers/ (LC 371, it is hard, at least for me..)"
   ]
  },
  {
   "cell_type": "markdown",
   "metadata": {},
   "source": [
    "# Reference"
   ]
  },
  {
   "cell_type": "markdown",
   "metadata": {},
   "source": [
    "1. https://ocw.mit.edu/courses/electrical-engineering-and-computer-science/6-172-performance-engineering-of-software-systems-fall-2018/lecture-slides/MIT6_172F18_lec3.pdf\n",
    "2. https://wiki.python.org/moin/BitwiseOperators\n",
    "3. https://realpython.com/python-bitwise-operators/#binary-number-representations\n",
    "4. https://leetcode.com/problems/sum-of-two-integers/discuss/84278/a-summary-how-to-use-bit-manipulation-to-solve-problems-easily-and-efficiently"
   ]
  }
 ],
 "metadata": {
  "kernelspec": {
   "display_name": "Python 3",
   "language": "python",
   "name": "python3"
  },
  "language_info": {
   "codemirror_mode": {
    "name": "ipython",
    "version": 3
   },
   "file_extension": ".py",
   "mimetype": "text/x-python",
   "name": "python",
   "nbconvert_exporter": "python",
   "pygments_lexer": "ipython3",
   "version": "3.8.6"
  },
  "toc": {
   "base_numbering": 1,
   "nav_menu": {},
   "number_sections": true,
   "sideBar": true,
   "skip_h1_title": false,
   "title_cell": "Table of Contents",
   "title_sidebar": "Contents",
   "toc_cell": true,
   "toc_position": {},
   "toc_section_display": true,
   "toc_window_display": false
  }
 },
 "nbformat": 4,
 "nbformat_minor": 4
}
